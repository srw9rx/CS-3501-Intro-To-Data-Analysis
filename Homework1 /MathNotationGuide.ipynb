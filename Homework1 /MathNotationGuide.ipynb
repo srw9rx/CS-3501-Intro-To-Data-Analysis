{
 "cells": [
  {
   "cell_type": "markdown",
   "metadata": {},
   "source": [
    "# How to Include Math Notation in Jupyter Notebooks\n",
    "This is a quick tutorial on how to format math notation in your Jupyter notebooks, which uses a system called LaTeX.\n",
    "\n",
    "First, make sure you are writing in a \"Markdown\" block (not a \"Code\" block). Now, to write math notation within a line of text, you must surround it with dollar signs, like so: $x = 5$. If you want a math expression to be centered on its own line, then you surround it with double dollar signs on each side, like so:\n",
    "\n",
    "$$f(b) - f(a) = \\int_a^b \\frac{df}{dx}(x) dx$$\n",
    "\n",
    "Most math notation is just the plain text you think it would be, like $y = f(x)$. But sometimes you need special symbols, which are written with a backslash `\\` character, followed by a keyword for that symbol. For example, `\\cup` is the LaTeX keyword for the union symbol, $\\cup$. Below is a reference guide for many of the common math notations that we will use in this class.\n",
    "\n",
    "# Basic Math\n",
    "\n",
    "Math Concept         |  LaTeX Code (inside `$...$`)         | Formatted Math Notation\n",
    "-------------------- | ------------------------------------ | -----------------------\n",
    "Fractions            | `\\frac{a + b}{c + d}`                | $$\\frac{a + b}{c + d}$$\n",
    "Factorial            | `n!`                                 | $$n!$$\n",
    "Binomial coefficient | `{{n}\\choose{k}}`                    | $${{n}\\choose{k}}$$\n",
    "Superscript (power)  | `x^y`                                | $$x^y$$\n",
    "Subscript (index)    | `x_i`                                | $$x_i$$\n",
    "Sum                  | `\\sum_{i=1}^N`                       | $$\\sum_{i=1}^N$$\n",
    "Integral             | `\\int_a^b`                           | $$\\int_a^b$$\n",
    "Greek letters        | `\\alpha, \\beta, \\gamma, \\mu, \\sigma` | $$\\alpha, \\beta, \\gamma, \\mu, \\sigma$$\n",
    "\n",
    "\n",
    "# Sets\n",
    "\n",
    "Math Concept        |  LaTeX Code (inside `$...$`) | Formatted Math Notation\n",
    "------------------- | ---------------------------- | -----------------------\n",
    "Set definition      | `A = \\{1, 2, 3\\}`            | $$A = \\{1, 2, 3\\}$$\n",
    "Equal               | `A = B`                      | $$A = B$$\n",
    "Not equal           | `A \\neq B`                   | $$A \\neq B$$\n",
    "Subset              | `A \\subseteq B`              | $$A \\subseteq B$$\n",
    "Not a subset        | `A \\nsubseteq B`             | $$A \\nsubseteq B$$\n",
    "Element of          | `x \\in A`                    | $$x \\in A$$\n",
    "Not an element of   | `x \\notin A`                 | $$x \\notin A$$\n",
    "Intersection        | `A \\cap B`                   | $$A \\cap B$$\n",
    "Union               | `A \\cup B`                   | $$A \\cup B$$\n",
    "Complement          | `A^c`                        | $$A^c$$\n",
    "Size of a set       | `\\|A\\|`                      | $$|A|$$\n",
    "Null set            | `\\emptyset`                  | $$\\emptyset$$\n",
    "Integers            | `\\mathbb{Z}`                 | $$\\mathbb{Z}$$\n",
    "Rationals           | `\\mathbb{Q}`                 | $$\\mathbb{Q}$$\n",
    "Reals               | `\\mathbb{R}`                 | $$\\mathbb{R}$$\n",
    "\n",
    "# Probability\n",
    "\n",
    "Math Concept            |  LaTeX Code (inside `$...$`) | Formatted Math Notation\n",
    "----------------------- | ---------------------------- | -----------------------\n",
    "Probability of an Event | `P(A)`                       | $$P(A)$$\n",
    "Conditional Probability | `P(A \\mid B)`                | $$P(A \\mid B)$$\n"
   ]
  }
 ],
 "metadata": {
  "kernelspec": {
   "display_name": "Python 3",
   "language": "python",
   "name": "python3"
  },
  "language_info": {
   "codemirror_mode": {
    "name": "ipython",
    "version": 3
   },
   "file_extension": ".py",
   "mimetype": "text/x-python",
   "name": "python",
   "nbconvert_exporter": "python",
   "pygments_lexer": "ipython3",
   "version": "3.9.0"
  }
 },
 "nbformat": 4,
 "nbformat_minor": 4
}
