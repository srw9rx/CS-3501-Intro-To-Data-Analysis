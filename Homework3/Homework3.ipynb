{
 "cells": [
  {
   "cell_type": "markdown",
   "id": "cubic-vancouver",
   "metadata": {},
   "source": [
    "Sophia Walton\n",
    "CS 3501\n",
    "Homework 3"
   ]
  },
  {
   "cell_type": "markdown",
   "id": "twelve-logistics",
   "metadata": {},
   "source": [
    "1. Answer the following questions about these two vectors. Don’t just give a number - make\n",
    "sure to write out all steps for your solutions, otherwise you may receive partial scores. (Your\n",
    "steps can be Python code!)\n",
    "v = \\begin{pmatrix} 15 \\\\ 34 \\\\ 18 \\\\ 22 \\end{pmatrix}\n",
    "\n",
    ",w = \\begin{pmatrix} 1 \\\\ 3 \\\\ 2 \\\\ 7 \\end{pmatrix}\n"
   ]
  },
  {
   "cell_type": "markdown",
   "id": "unusual-directive",
   "metadata": {},
   "source": [
    "(a) What are the norms $\\lVert$v$\\rVert$, $\\lVert$w$\\rVert$ ? \n"
   ]
  },
  {
   "cell_type": "markdown",
   "id": "cardiovascular-grace",
   "metadata": {},
   "source": [
    "$\\lVert$x$\\rVert$ = $\\sqrt{\\sum_{i=1}^{n} x^2 }$\n",
    "\n",
    "$\\lVert$v$\\rVert$ = $\\sqrt{15^2 + 34^2 + 18^2 + 22^2}$\n",
    "\n",
    "= $\\sqrt{225 + 1156 + 324 + 484}$\n",
    "\n",
    "= $\\sqrt{2189}$\n",
    "\n",
    "= 46.79"
   ]
  },
  {
   "cell_type": "markdown",
   "id": "tested-surprise",
   "metadata": {},
   "source": [
    "$\\lVert$w$\\rVert$ = $\\sqrt{1^2 + 3^2 + 2^2 + 7^2}$\n",
    "\n",
    "= $\\sqrt{1 + 9 + 4 + 49}$\n",
    "\n",
    "= $\\sqrt{63}$\n",
    "\n",
    "= 7.94"
   ]
  },
  {
   "cell_type": "markdown",
   "id": "angry-cache",
   "metadata": {},
   "source": [
    "(b) What is the dot product <v * w>?"
   ]
  },
  {
   "cell_type": "markdown",
   "id": "reliable-classic",
   "metadata": {},
   "source": [
    "<x * i > = \\begin{pmatrix} v_1*w_1$ & v_2*w_2 & v_3*w_3 & v_4*w_4 \\end{pmatrix}\n",
    "\n",
    "= \\begin{pmatrix} 15*1 & 34*3 & 18*2 & 22*7 \\end{pmatrix}\n",
    "\n",
    "= \\begin{pmatrix} 15 & 102 & 36 & 154 \\end{pmatrix}"
   ]
  },
  {
   "cell_type": "markdown",
   "id": "three-blogger",
   "metadata": {},
   "source": [
    "(c) What is the distance between v and w as points?"
   ]
  },
  {
   "cell_type": "markdown",
   "id": "significant-friday",
   "metadata": {},
   "source": [
    "d =  $\\sqrt{\\sum_{i=1}^{n} (x_i-y_i)^2 }$\n",
    "\n",
    "= $\\sqrt{(15-1)^2 + (34-3)^2 + (18-2)^2 + (22-7)^2}$\n",
    "\n",
    "= $\\sqrt{14^2 + 31^2 + 16^2 + 15^2}$\n",
    "\n",
    "= $\\sqrt{196+ 961 + 256 + 225}$\n",
    "\n",
    "= $\\sqrt{1638}$\n",
    "\n",
    "= 40.47"
   ]
  },
  {
   "cell_type": "markdown",
   "id": "powerful-presence",
   "metadata": {},
   "source": [
    "(d) What is the projection of v onto w? (looking for a vector here)"
   ]
  },
  {
   "cell_type": "markdown",
   "id": "manufactured-video",
   "metadata": {},
   "source": [
    "unit vector of \\begin{pmatrix} \\frac{1}{\\sqrt{63}} & \\frac{3}{\\sqrt{63}} & \\frac{2}{\\sqrt{63}} & \\frac{7}{\\sqrt{63}} \\end{pmatrix}\n",
    "\n",
    "v proj w = \\begin{pmatrix} \\frac{15*1}{\\sqrt{63}} & \\frac{34*3}{\\sqrt{63}} & \\frac{18*2}{\\sqrt{63}} & \\frac{22*7}{\\sqrt{63}} \\end{pmatrix}\n",
    "\n",
    "= \\begin{pmatrix} \\frac{15}{\\sqrt{63}} & \\frac{102}{\\sqrt{63}} & \\frac{36}{\\sqrt{63}} & \\frac{154}{\\sqrt{63}} \\end{pmatrix}"
   ]
  },
  {
   "cell_type": "markdown",
   "id": "contrary-assignment",
   "metadata": {},
   "source": [
    "2. In this problem we will be analyzing data from the Old Faithful geyser in Yellowstone National\n",
    "Park. (See https://en.wikipedia.org/wiki/Old_Faithful to learn more!) Download the\n",
    "CSV of the data from the class schedule page. The data consists of two variables: the duration\n",
    "of eruptions in minutes (eruptions column) and the length of time until the next eruption\n",
    "(waiting column). Hint: The function numpy.asarray() can convert a pandas column into\n",
    "a numpy array."
   ]
  },
  {
   "cell_type": "markdown",
   "id": "applied-istanbul",
   "metadata": {},
   "source": [
    "(a) Load the eruptions column as your x variable and the waiting column as your y\n",
    "variable. Plot the data with a scatter plot. Do you think there is a relationship between\n",
    "eruption time and waiting time?"
   ]
  },
  {
   "cell_type": "code",
   "execution_count": 1,
   "id": "exciting-cause",
   "metadata": {},
   "outputs": [],
   "source": [
    "# import statements\n",
    "import pandas \n",
    "import numpy as np\n",
    "import matplotlib.pyplot as plt "
   ]
  },
  {
   "cell_type": "code",
   "execution_count": 2,
   "id": "young-breast",
   "metadata": {},
   "outputs": [],
   "source": [
    "#load csv \n",
    "csvoldfaithful = pandas.read_csv(\"/Users/sophiawalton/Desktop/CS3501/Homework3/faithful.csv\")\n",
    "\n",
    "#create data frame \n",
    "oldfaithfuldf = pandas.DataFrame(csvoldfaithful)"
   ]
  },
  {
   "cell_type": "code",
   "execution_count": 3,
   "id": "stuck-homeless",
   "metadata": {},
   "outputs": [
    {
     "data": {
      "image/png": "[encoded data removed]",
      "text/plain": [
       "<Figure size 720x432 with 1 Axes>"
      ]
     },
     "metadata": {
      "needs_background": "light"
     },
     "output_type": "display_data"
    }
   ],
   "source": [
    "#plot datapoints \n",
    "fig, before = plt.subplots(figsize=(10, 6))\n",
    "\n",
    "before.scatter(x = oldfaithfuldf['eruptions'], y = oldfaithfuldf['waiting'], color ='red')\n",
    "plt.xlabel(\"eruption time\")\n",
    "plt.ylabel(\"waiting time\")\n",
    "plt.title(\"Eruption and Waiting time for Old Faithful\")\n",
    "\n",
    "plt.show()"
   ]
  },
  {
   "cell_type": "markdown",
   "id": "electrical-finnish",
   "metadata": {},
   "source": [
    "It appears that there is a correlation between eruption time and waiting time: the longer the waiting time, the longer the corresponding eruption, and vice-versa. "
   ]
  },
  {
   "cell_type": "markdown",
   "id": "latter-credits",
   "metadata": {},
   "source": [
    "(b) What is the mean of the eruption time? What is the mean of the waiting time? Use\n",
    "these values to center your x and y data"
   ]
  },
  {
   "cell_type": "code",
   "execution_count": 4,
   "id": "creative-jefferson",
   "metadata": {},
   "outputs": [
    {
     "name": "stdout",
     "output_type": "stream",
     "text": [
      "eruption time mean: 3.4877830882352936\n",
      "waiting time mean:  70.8970588235294\n"
     ]
    }
   ],
   "source": [
    "#convert to series to find average\n",
    "eruptiontime=pandas.Series(data=oldfaithfuldf['eruptions'])\n",
    "waitingtime=pandas.Series(data=oldfaithfuldf['waiting'])\n",
    "\n",
    "#find averages \n",
    "emean = eruptiontime.mean()\n",
    "wmean = waitingtime.mean()\n",
    "\n",
    "#print \n",
    "print(\"eruption time mean:\", emean)\n",
    "print(\"waiting time mean: \", wmean)"
   ]
  },
  {
   "cell_type": "markdown",
   "id": "lonely-invitation",
   "metadata": {},
   "source": [
    "(c) Using the dot product formula we discussed in class, compute the correlation of eruption\n",
    "and waiting time. Does the value (and sign) of the correlation match what you would\n",
    "expect from the plot?"
   ]
  },
  {
   "cell_type": "code",
   "execution_count": 5,
   "id": "received-space",
   "metadata": {},
   "outputs": [
    {
     "name": "stdout",
     "output_type": "stream",
     "text": [
      "r = 0.9008111683218134\n"
     ]
    }
   ],
   "source": [
    "times = np.empty([len(eruptiontime)])\n",
    "#create a series of the dot products\n",
    "elen = 0 \n",
    "wlen = 0\n",
    "for i in range (0, len(eruptiontime), 1):\n",
    "    esquared = (eruptiontime.at[i]-emean)**2\n",
    "    wsquared =(waitingtime.at[i]-wmean)**2\n",
    "    elen+=esquared\n",
    "    wlen+=wsquared\n",
    "elen = elen**0.5\n",
    "wlen = wlen**0.5\n",
    "\n",
    "for i in range (0, len(eruptiontime), 1):\n",
    "    etime = eruptiontime.at[i]-emean\n",
    "    wtime = waitingtime.at[i]-wmean\n",
    "    newtime = (etime * wtime)\n",
    "    times[i]=newtime\n",
    "\n",
    "timesum = (np.sum(times))/(elen*wlen)\n",
    "print(\"r =\", timesum)"
   ]
  },
  {
   "cell_type": "markdown",
   "id": "suburban-grammar",
   "metadata": {},
   "source": [
    "This makes sense because there is definitely a positive correlation between the two, but it is not very steep due to the relative strength of the two markers. "
   ]
  },
  {
   "cell_type": "markdown",
   "id": "sticky-referral",
   "metadata": {},
   "source": [
    "(d) Using the formulas from lecture for ˆα and βˆ, compute the intercept and slope for a linear\n",
    "regression. Now plot a scatterplot with your regression line on top of it. How does the\n",
    "value and the sign of the slope compare to the correlation?"
   ]
  },
  {
   "cell_type": "code",
   "execution_count": 6,
   "id": "raised-diameter",
   "metadata": {},
   "outputs": [],
   "source": [
    "#calculate beta\n",
    "timeone = np.empty([len(eruptiontime)])\n",
    "timetwo = np.empty([len(eruptiontime)])\n",
    "for i in range (0, len(eruptiontime), 1):\n",
    "    etime = eruptiontime.at[i]-emean\n",
    "    wtime = waitingtime.at[i]-wmean\n",
    "    newtime = (etime * wtime)\n",
    "    otime = etime**2\n",
    "    timeone[i]=newtime\n",
    "    timetwo[i]=otime\n",
    "beta=np.sum(timeone)/np.sum(timetwo)\n",
    "beta = beta.item()\n",
    "\n",
    "#calculate alpha \n",
    "alpha = wmean - beta*(emean)"
   ]
  },
  {
   "cell_type": "code",
   "execution_count": 7,
   "id": "removable-savannah",
   "metadata": {},
   "outputs": [
    {
     "data": {
      "image/png": "[encoded data removed]",
      "text/plain": [
       "<Figure size 720x432 with 1 Axes>"
      ]
     },
     "metadata": {
      "needs_background": "light"
     },
     "output_type": "display_data"
    }
   ],
   "source": [
    "#draw scatterplot \n",
    "\n",
    "#convert df to np array \n",
    "x = oldfaithfuldf['eruptions'].to_numpy()\n",
    "\n",
    "y = oldfaithfuldf['waiting'].to_numpy()\n",
    "\n",
    "#plot datapoints \n",
    "fig, regression = plt.subplots(figsize=(10, 6))\n",
    "\n",
    "regression.plot(x, y, color ='red', marker = 'o', linestyle = 'None')\n",
    "\n",
    "plt.plot(x, beta*x + alpha)\n",
    "\n",
    "plt.xlabel(\"eruption time\")\n",
    "plt.ylabel(\"waiting time\")\n",
    "plt.title(\"Eruption and Waiting time for Old Faithful\")\n",
    "\n",
    "plt.show()\n"
   ]
  },
  {
   "cell_type": "markdown",
   "id": "greenhouse-posting",
   "metadata": {},
   "source": [
    "(e) Say you are watching the Old Faithful geyser, and you time an eruption to be 2.2\n",
    "minutes. Based on your regression analysis, how long should you expect to wait for the\n",
    "next eruption?"
   ]
  },
  {
   "cell_type": "code",
   "execution_count": 8,
   "id": "warming-jordan",
   "metadata": {},
   "outputs": [
    {
     "name": "stdout",
     "output_type": "stream",
     "text": [
      "57.07960809204711 minutes\n"
     ]
    }
   ],
   "source": [
    "time = beta*2.2+alpha\n",
    "print(time, \"minutes\")"
   ]
  },
  {
   "cell_type": "markdown",
   "id": "brazilian-method",
   "metadata": {},
   "source": [
    "(f) Using the formula for the R2\n",
    "statistic from class, what is the proportion of variance\n",
    "explained by your regression?"
   ]
  },
  {
   "cell_type": "code",
   "execution_count": 53,
   "id": "popular-adoption",
   "metadata": {},
   "outputs": [],
   "source": [
    "#make a list of the errors \n",
    "errors = np.empty([len(eruptiontime)])\n",
    "waverage = np.empty([len(eruptiontime)])\n",
    "\n",
    "for i in range (0, len(eruptiontime), 1):\n",
    "    wtime = waitingtime.at[i]-wmean\n",
    "    error = (alpha + beta*eruptiontime.at[i]-waitingtime.at[i])\n",
    "    errors[i]=error**2\n",
    "    waverage[i]=wtime**2\n",
    "\n"
   ]
  },
  {
   "cell_type": "code",
   "execution_count": 56,
   "id": "important-croatia",
   "metadata": {},
   "outputs": [
    {
     "name": "stdout",
     "output_type": "stream",
     "text": [
      "0.8114607609733095\n"
     ]
    }
   ],
   "source": [
    "mysum = (np.sum(errors))/(np.sum(waverage))\n",
    "mysum = 1-mysum\n",
    "print(mysum)\n"
   ]
  },
  {
   "cell_type": "markdown",
   "id": "several-crawford",
   "metadata": {},
   "source": [
    "thus, 81.1 percent of variance is explained by this regression equation."
   ]
  }
 ],
 "metadata": {
  "kernelspec": {
   "display_name": "Python 3",
   "language": "python",
   "name": "python3"
  },
  "language_info": {
   "codemirror_mode": {
    "name": "ipython",
    "version": 3
   },
   "file_extension": ".py",
   "mimetype": "text/x-python",
   "name": "python",
   "nbconvert_exporter": "python",
   "pygments_lexer": "ipython3",
   "version": "3.9.0"
  }
 },
 "nbformat": 4,
 "nbformat_minor": 5
}
