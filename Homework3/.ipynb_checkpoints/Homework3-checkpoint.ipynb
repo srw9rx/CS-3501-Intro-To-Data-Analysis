{
 "cells": [
  {
   "cell_type": "markdown",
   "id": "obvious-allen",
   "metadata": {},
   "source": [
    "Sophia Walton\n",
    "CS 3501\n",
    "Homework 3"
   ]
  },
  {
   "cell_type": "markdown",
   "id": "attached-intro",
   "metadata": {},
   "source": [
    "1. Answer the following questions about these two vectors. Don’t just give a number - make\n",
    "sure to write out all steps for your solutions, otherwise you may receive partial scores. (Your\n",
    "steps can be Python code!)\n",
    "v =\n",
    "\n",
    "\n",
    "15\n",
    "34\n",
    "18\n",
    "22\n",
    "\n",
    "\n",
    ", w =\n",
    "\n",
    "\n",
    "1\n",
    "3\n",
    "2\n",
    "7\n",
    "\n",
    ""
   ]
  },
  {
   "cell_type": "markdown",
   "id": "protected-sailing",
   "metadata": {},
   "source": [
    "(a) What are the norms kvk and kwk?\n",
    "(b) What is the dot product hv, wi?\n",
    "(c) What is the distance between v and w as points?\n",
    "(d) What is the projection of v onto w? (looking for a vector here)"
   ]
  },
  {
   "cell_type": "markdown",
   "id": "twenty-bristol",
   "metadata": {},
   "source": [
    "2. In this problem we will be analyzing data from the Old Faithful geyser in Yellowstone National\n",
    "Park. (See https://en.wikipedia.org/wiki/Old_Faithful to learn more!) Download the\n",
    "CSV of the data from the class schedule page. The data consists of two variables: the duration\n",
    "of eruptions in minutes (eruptions column) and the length of time until the next eruption\n",
    "(waiting column). Hint: The function numpy.asarray() can convert a pandas column into\n",
    "a numpy array."
   ]
  },
  {
   "cell_type": "markdown",
   "id": "lesbian-canvas",
   "metadata": {},
   "source": [
    "(a) Load the eruptions column as your x variable and the waiting column as your y\n",
    "variable. Plot the data with a scatter plot. Do you think there is a relationship between\n",
    "eruption time and waiting time?"
   ]
  },
  {
   "cell_type": "code",
   "execution_count": 1,
   "id": "pressed-marathon",
   "metadata": {},
   "outputs": [],
   "source": [
    "# import statements\n",
    "import pandas \n",
    "import numpy as np\n",
    "import matplotlib.pyplot as plt "
   ]
  },
  {
   "cell_type": "code",
   "execution_count": 3,
   "id": "talented-covering",
   "metadata": {},
   "outputs": [],
   "source": [
    "#load csv \n",
    "csvoldfaithful = pandas.read_csv(\"/Users/sophiawalton/Desktop/CS3501/Homework3/faithful.csv\")\n",
    "\n",
    "#create data frame \n",
    "oldfaithfuldf = pandas.DataFrame(csvoldfaithful)"
   ]
  },
  {
   "cell_type": "code",
   "execution_count": 5,
   "id": "crazy-yellow",
   "metadata": {},
   "outputs": [
    {
     "data": {
      "image/png": "[encoded data removed]",
      "text/plain": [
       "<Figure size 720x432 with 1 Axes>"
      ]
     },
     "metadata": {
      "needs_background": "light"
     },
     "output_type": "display_data"
    }
   ],
   "source": [
    "#plot datapoints \n",
    "fig, before = plt.subplots(figsize=(10, 6))\n",
    "\n",
    "before.scatter(x = oldfaithfuldf['eruptions'], y = oldfaithfuldf['waiting'], color ='red')\n",
    "plt.xlabel(\"eruption time\")\n",
    "plt.ylabel(\"waiting time\")\n",
    "plt.title(\"Eruption and Waiting time for Old Faithful\")\n",
    "\n",
    "plt.show()"
   ]
  },
  {
   "cell_type": "markdown",
   "id": "raising-computer",
   "metadata": {},
   "source": [
    "It appears that there is a correlation between eruption time and waiting time: the longer the waiting time, the longer the corresponding eruption, and vice-versa. "
   ]
  },
  {
   "cell_type": "markdown",
   "id": "approved-narrow",
   "metadata": {},
   "source": [
    "(b) What is the mean of the eruption time? What is the mean of the waiting time? Use\n",
    "these values to center your x and y data"
   ]
  },
  {
   "cell_type": "code",
   "execution_count": 13,
   "id": "signed-letters",
   "metadata": {},
   "outputs": [
    {
     "name": "stdout",
     "output_type": "stream",
     "text": [
      "eruption time mean: 3.4877830882352936\n",
      "waiting time mean:  70.8970588235294\n"
     ]
    }
   ],
   "source": [
    "#convert to series to find average\n",
    "eruptiontime=pandas.Series(data=oldfaithfuldf['eruptions'])\n",
    "waitingtime=pandas.Series(data=oldfaithfuldf['waiting'])\n",
    "\n",
    "#find averages \n",
    "emean = eruptiontime.mean()\n",
    "wmean = waitingtime.mean()\n",
    "\n",
    "#print \n",
    "print(\"eruption time mean:\", emean)\n",
    "print(\"waiting time mean: \", wmean)"
   ]
  },
  {
   "cell_type": "markdown",
   "id": "sound-score",
   "metadata": {},
   "source": [
    "(c) Using the dot product formula we discussed in class, compute the correlation of eruption\n",
    "and waiting time. Does the value (and sign) of the correlation match what you would\n",
    "expect from the plot?"
   ]
  },
  {
   "cell_type": "code",
   "execution_count": null,
   "id": "therapeutic-reunion",
   "metadata": {},
   "outputs": [],
   "source": [
    "times = numpy.empty([1, len(eruptiontime)])\n",
    "#create a series of the dot products\n",
    "for i in range (0, len(eruptiontime), 1):\n",
    "    etime = eruptiontime.at(i)\n",
    "    wtime = waitingtime.at(i)\n",
    "    newtime = etime * wtime\n",
    "    times.append(newtime)\n"
   ]
  },
  {
   "cell_type": "markdown",
   "id": "changing-permission",
   "metadata": {},
   "source": [
    "(d) Using the formulas from lecture for ˆα and βˆ, compute the intercept and slope for a linear\n",
    "regression. Now plot a scatterplot with your regression line on top of it. How does the\n",
    "value and the sign of the slope compare to the correlation?"
   ]
  },
  {
   "cell_type": "markdown",
   "id": "dependent-tuning",
   "metadata": {},
   "source": [
    "(e) Say you are watching the Old Faithful geyser, and you time an eruption to be 2.2\n",
    "minutes. Based on your regression analysis, how long should you expect to wait for the\n",
    "next eruption?"
   ]
  },
  {
   "cell_type": "markdown",
   "id": "accredited-accreditation",
   "metadata": {},
   "source": [
    "(f) Using the formula for the R2\n",
    "statistic from class, what is the proportion of variance\n",
    "explained by your regression?"
   ]
  },
  {
   "cell_type": "code",
   "execution_count": null,
   "id": "previous-velvet",
   "metadata": {},
   "outputs": [],
   "source": []
  },
  {
   "cell_type": "code",
   "execution_count": null,
   "id": "strategic-fluid",
   "metadata": {},
   "outputs": [],
   "source": []
  }
 ],
 "metadata": {
  "kernelspec": {
   "display_name": "Python 3",
   "language": "python",
   "name": "python3"
  },
  "language_info": {
   "codemirror_mode": {
    "name": "ipython",
    "version": 3
   },
   "file_extension": ".py",
   "mimetype": "text/x-python",
   "name": "python",
   "nbconvert_exporter": "python",
   "pygments_lexer": "ipython3",
   "version": "3.9.0"
  }
 },
 "nbformat": 4,
 "nbformat_minor": 5
}
